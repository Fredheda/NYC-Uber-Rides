{
 "cells": [
  {
   "cell_type": "markdown",
   "metadata": {},
   "source": [
    "# Exploratory Data Analysis"
   ]
  },
  {
   "cell_type": "markdown",
   "metadata": {},
   "source": [
    "### Import Libraries"
   ]
  },
  {
   "cell_type": "code",
   "execution_count": null,
   "metadata": {},
   "outputs": [],
   "source": [
    "import pandas as pd\n",
    "import numpy as np\n",
    "import folium\n",
    "from folium.plugins import MarkerCluster\n",
    "from math import sin, cos, sqrt, atan2, radians\n",
    "from folium.plugins import MousePosition"
   ]
  },
  {
   "cell_type": "markdown",
   "metadata": {},
   "source": [
    "The dataset contains the following fields:\n",
    "\n",
    "- key - a unique identifier for each trip\n",
    "- fare_amount - the cost of each trip in usd\n",
    "- pickup_datetime - date and time when the meter was engaged\n",
    "- passenger_count - the number of passengers in the vehicle (driver entered value)\n",
    "- pickup_longitude - the longitude where the meter was engaged\n",
    "- pickup_latitude - the latitude where the meter was engaged\n",
    "- dropoff_longitude - the longitude where the meter was disengaged\n",
    "- dropoff_latitude - the latitude where the meter was disengaged"
   ]
  },
  {
   "cell_type": "code",
   "execution_count": null,
   "metadata": {},
   "outputs": [],
   "source": [
    "def unique_values(dataframe):\n",
    "    column_list = dataframe.columns.values.tolist()\n",
    "    dict = {}\n",
    "    for column in column_list:\n",
    "        dict[column] = str(len(list(dataframe[str(column)].unique())))\n",
    "        #print(\"Column: \"+ column + \" => \" + str(len(list(dataframe[str(column)].unique()))))\n",
    "    return pd.DataFrame.from_dict(dict,orient=\"index\",columns=([\"count\"]))\n",
    "\n",
    "def null_values(dataframe):\n",
    "    column_list = dataframe.columns.values.tolist()\n",
    "    dict = {}\n",
    "    for column in column_list:\n",
    "        if dataframe[str(column)].isnull().sum() > 0:\n",
    "            dict[column] = dataframe[str(column)].isnull().sum()\n",
    "            percentage_missing = dataframe[str(column)].isnull().sum()/len(dataframe)*100\n",
    "            dict[column] = np.append(dict[column], percentage_missing)\n",
    "    return pd.DataFrame.from_dict(dict,orient=\"index\", columns = ['absolute', 'percentage'])\n",
    "\n",
    "def data_types(df):\n",
    "    return pd.DataFrame(df.dtypes.value_counts(),columns=([\"count\"]))\n",
    "\n",
    "def calculate_distance(lat1, lon1, lat2, lon2):\n",
    "    # approximate radius of earth in km\n",
    "    R = 6373.0\n",
    "\n",
    "    lat1 = radians(lat1)\n",
    "    lon1 = radians(lon1)\n",
    "    lat2 = radians(lat2)\n",
    "    lon2 = radians(lon2)\n",
    "\n",
    "    dlon = lon2 - lon1\n",
    "    dlat = lat2 - lat1\n",
    "\n",
    "    a = sin(dlat / 2)**2 + cos(lat1) * cos(lat2) * sin(dlon / 2)**2\n",
    "    c = 2 * atan2(sqrt(a), sqrt(1 - a))\n",
    "\n",
    "    distance = R * c\n",
    "    return distance"
   ]
  },
  {
   "cell_type": "code",
   "execution_count": null,
   "metadata": {},
   "outputs": [],
   "source": [
    "df = pd.read_csv(\"uber.csv\")\n",
    "df.drop([\"Unnamed: 0\",\"key\"],axis=1,inplace=True) # Columns are not relevant to any prediction\n",
    "df.head()"
   ]
  },
  {
   "cell_type": "code",
   "execution_count": null,
   "metadata": {},
   "outputs": [],
   "source": [
    "df.pickup_datetime = pd.to_datetime(df[\"pickup_datetime\"])\n",
    "df[\"year\"] = df.pickup_datetime.apply(lambda x: x.year)\n",
    "df[\"month\"] = df.pickup_datetime.apply(lambda x: x.month)\n",
    "df[\"day\"] = df.pickup_datetime.apply(lambda x: x.day)\n",
    "df[\"hour\"] = df.pickup_datetime.apply(lambda x: x.hour)\n",
    "df[\"minute\"] = df.pickup_datetime.apply(lambda x: x.minute)\n",
    "df[\"second\"] = df.pickup_datetime.apply(lambda x: x.second)"
   ]
  },
  {
   "cell_type": "code",
   "execution_count": null,
   "metadata": {},
   "outputs": [],
   "source": [
    "len(df)"
   ]
  },
  {
   "cell_type": "code",
   "execution_count": null,
   "metadata": {},
   "outputs": [],
   "source": [
    "data_types(df)"
   ]
  },
  {
   "cell_type": "code",
   "execution_count": null,
   "metadata": {},
   "outputs": [],
   "source": [
    "unique_values(df)"
   ]
  },
  {
   "cell_type": "code",
   "execution_count": null,
   "metadata": {},
   "outputs": [],
   "source": [
    "null_values(df)"
   ]
  },
  {
   "cell_type": "code",
   "execution_count": null,
   "metadata": {},
   "outputs": [],
   "source": [
    "start_location = df.loc[0][[\"pickup_latitude\",\"pickup_longitude\"]]\n",
    "\n",
    "latitudes = df.pickup_latitude.tolist()\n",
    "longitudes = df.pickup_longitude.tolist()\n",
    "\n",
    "locations = zip(latitudes,longitudes)"
   ]
  },
  {
   "cell_type": "code",
   "execution_count": null,
   "metadata": {},
   "outputs": [],
   "source": []
  },
  {
   "cell_type": "code",
   "execution_count": null,
   "metadata": {},
   "outputs": [],
   "source": [
    "marker_cluster = MarkerCluster()\n",
    "map = folium.Map(location=start_location, zoom_start=20)"
   ]
  },
  {
   "cell_type": "code",
   "execution_count": null,
   "metadata": {},
   "outputs": [],
   "source": [
    "#for marker in locations:\n",
    "    #Coordinates = [marker[0],marker[1]]\n",
    "    #print(Coordinates)"
   ]
  },
  {
   "cell_type": "code",
   "execution_count": null,
   "metadata": {},
   "outputs": [],
   "source": [
    "for marker in locations:\n",
    "\n",
    "    Coordinates = [marker[0],marker[1]]\n",
    "    marker = folium.Marker(Coordinates)\n",
    "    marker_cluster.add_child(marker)\n",
    "    \n",
    "\n",
    "formatter = \"function(num) {return L.Util.formatNum(num, 5);};\"\n",
    "mouse_position = MousePosition(\n",
    "    position='topright',\n",
    "    separator=' Long: ',\n",
    "    empty_string='NaN',\n",
    "    lng_first=False,\n",
    "    num_digits=20,\n",
    "    prefix='Lat:',\n",
    "    lat_formatter=formatter,\n",
    "    lng_formatter=formatter\n",
    ")\n",
    "\n",
    "map.add_child(mouse_position)\n",
    "map.add_child(marker_cluster)\n",
    "map"
   ]
  },
  {
   "cell_type": "markdown",
   "metadata": {},
   "source": [
    "### From the above map:\n",
    "- It is likely that the above dataset primarily consists of uber rides in NYC\n",
    "- Several Pick-up Locations are at unlikely locations (e.g. in the ocean) => Likely Errors\n",
    "- Only Uber rides that start in NYC and have a plausible Destination shall be considered for this project"
   ]
  },
  {
   "cell_type": "code",
   "execution_count": null,
   "metadata": {},
   "outputs": [],
   "source": [
    "min_latitude = 40.50\n",
    "max_latitude = 41.20\n",
    "min_longitude = -74.55\n",
    "max_longitude = -73.05"
   ]
  },
  {
   "cell_type": "code",
   "execution_count": null,
   "metadata": {},
   "outputs": [],
   "source": [
    "df1 = df[(df[\"pickup_latitude\"] > min_latitude) & \n",
    "         (df[\"pickup_latitude\"] < max_latitude) & \n",
    "         (df[\"pickup_longitude\"] > min_longitude) & \n",
    "         (df[\"pickup_longitude\"] < max_longitude)\n",
    "        ]"
   ]
  },
  {
   "cell_type": "code",
   "execution_count": null,
   "metadata": {},
   "outputs": [],
   "source": [
    "df1"
   ]
  },
  {
   "cell_type": "code",
   "execution_count": null,
   "metadata": {},
   "outputs": [],
   "source": [
    "start_location = df.loc[0][[\"pickup_latitude\",\"pickup_longitude\"]]\n",
    "\n",
    "latitudes = df1.pickup_latitude.tolist()\n",
    "longitudes = df1.pickup_longitude.tolist()\n",
    "\n",
    "locations = zip(latitudes,longitudes)"
   ]
  },
  {
   "cell_type": "code",
   "execution_count": null,
   "metadata": {},
   "outputs": [],
   "source": [
    "marker_cluster = MarkerCluster()\n",
    "map = folium.Map(location=start_location, zoom_start=20)"
   ]
  },
  {
   "cell_type": "code",
   "execution_count": null,
   "metadata": {},
   "outputs": [],
   "source": [
    "for marker in locations:\n",
    "\n",
    "    Coordinates = [marker[0],marker[1]]\n",
    "    marker = folium.Marker(Coordinates)\n",
    "    marker_cluster.add_child(marker)\n",
    "    \n",
    "\n",
    "formatter = \"function(num) {return L.Util.formatNum(num, 5);};\"\n",
    "mouse_position = MousePosition(\n",
    "    position='topright',\n",
    "    separator=' Long: ',\n",
    "    empty_string='NaN',\n",
    "    lng_first=False,\n",
    "    num_digits=20,\n",
    "    prefix='Lat:',\n",
    "    lat_formatter=formatter,\n",
    "    lng_formatter=formatter\n",
    ")\n",
    "\n",
    "map.add_child(mouse_position)\n",
    "map.add_child(marker_cluster)\n",
    "map"
   ]
  },
  {
   "cell_type": "code",
   "execution_count": null,
   "metadata": {},
   "outputs": [],
   "source": []
  }
 ],
 "metadata": {
  "interpreter": {
   "hash": "aee8b7b246df8f9039afb4144a1f6fd8d2ca17a180786b69acc140d282b71a49"
  },
  "kernelspec": {
   "display_name": "Python 3 (ipykernel)",
   "language": "python",
   "name": "python3"
  },
  "language_info": {
   "codemirror_mode": {
    "name": "ipython",
    "version": 3
   },
   "file_extension": ".py",
   "mimetype": "text/x-python",
   "name": "python",
   "nbconvert_exporter": "python",
   "pygments_lexer": "ipython3",
   "version": "3.9.10"
  }
 },
 "nbformat": 4,
 "nbformat_minor": 4
}
