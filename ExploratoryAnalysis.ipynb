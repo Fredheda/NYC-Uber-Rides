{
 "cells": [
  {
   "cell_type": "code",
   "execution_count": null,
   "metadata": {},
   "outputs": [],
   "source": [
    "import pandas as pd\n",
    "import numpy as np"
   ]
  },
  {
   "cell_type": "markdown",
   "metadata": {},
   "source": [
    "The dataset contains the following fields:\n",
    "\n",
    "- key - a unique identifier for each trip\n",
    "- fare_amount - the cost of each trip in usd\n",
    "- pickup_datetime - date and time when the meter was engaged\n",
    "- passenger_count - the number of passengers in the vehicle (driver entered value)\n",
    "- pickup_longitude - the longitude where the meter was engaged\n",
    "- pickup_latitude - the latitude where the meter was engaged\n",
    "- dropoff_longitude - the longitude where the meter was disengaged\n",
    "- dropoff_latitude - the latitude where the meter was disengaged"
   ]
  },
  {
   "cell_type": "code",
   "execution_count": null,
   "metadata": {},
   "outputs": [],
   "source": [
    "def unique_values(dataframe):\n",
    "    column_list = dataframe.columns.values.tolist()\n",
    "    dict = {}\n",
    "    for column in column_list:\n",
    "        dict[column] = str(len(list(dataframe[str(column)].unique())))\n",
    "        #print(\"Column: \"+ column + \" => \" + str(len(list(dataframe[str(column)].unique()))))\n",
    "    return pd.DataFrame.from_dict(dict,orient=\"index\")\n",
    "\n",
    "def null_values(dataframe):\n",
    "    column_list = dataframe.columns.values.tolist()\n",
    "    dict = {}\n",
    "    for column in column_list:\n",
    "        if dataframe[str(column)].isnull().sum() > 0:\n",
    "            dict[column] = dataframe[str(column)].isnull().sum()\n",
    "            percentage_missing = dataframe[str(column)].isnull().sum()/len(dataframe)*100\n",
    "            dict[column] = np.append(dict[column], percentage_missing)\n",
    "    return pd.DataFrame.from_dict(dict,orient=\"index\", columns = ['absolute', 'percentage'])"
   ]
  },
  {
   "cell_type": "code",
   "execution_count": null,
   "metadata": {},
   "outputs": [],
   "source": [
    "df = pd.read_csv(\"uber.csv\")\n",
    "df.drop([\"Unnamed: 0\",\"key\"],axis=1,inplace=True)\n",
    "df.head()"
   ]
  }
 ],
 "metadata": {
  "interpreter": {
   "hash": "aee8b7b246df8f9039afb4144a1f6fd8d2ca17a180786b69acc140d282b71a49"
  },
  "kernelspec": {
   "display_name": "Python 3 (ipykernel)",
   "language": "python",
   "name": "python3"
  },
  "language_info": {
   "codemirror_mode": {
    "name": "ipython",
    "version": 3
   },
   "file_extension": ".py",
   "mimetype": "text/x-python",
   "name": "python",
   "nbconvert_exporter": "python",
   "pygments_lexer": "ipython3",
   "version": "3.9.10"
  }
 },
 "nbformat": 4,
 "nbformat_minor": 4
}
